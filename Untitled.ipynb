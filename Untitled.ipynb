{
 "cells": [
  {
   "cell_type": "code",
   "execution_count": 14,
   "metadata": {},
   "outputs": [
    {
     "name": "stdout",
     "output_type": "stream",
     "text": [
      "-1 -1 -1 -1 -1 -1 -1 -1 -1 -1 \n",
      "-1 -1 -1 -1 -1 0 -1 -1 -1 -1 \n",
      "-1 -1 -1 -1 -1 -1 0 -1 -1 -1 \n",
      "-1 -1 -1 -1 -1 -1 -1 0 -1 -1 \n",
      "-1 -1 -1 -1 -1 -1 -1 -1 0 -1 \n",
      "-1 0 -1 -1 -1 -1 1000 -1 -1 2500 \n",
      "-1 -1 0 -1 -1 1000 -1 1000 -1 -1 \n",
      "-1 -1 -1 0 -1 -1 1000 -1 1000 -1 \n",
      "-1 -1 -1 -1 0 -1 -1 1000 -1 -1 \n",
      "-1 -1 -1 -1 -1 2500 -1 -1 -1 -1 \n"
     ]
    }
   ],
   "source": [
    "import pandas as pd #библиотека для работы с бд\n",
    "import numpy as np #матбиблиотека\n",
    "dfc=pd.read_csv('SEA_INPUT_MOSCOW.txt',sep=\" \",header=None)\n",
    "table=[]\n",
    "for i in range(65):\n",
    "    table.append([])\n",
    "    for j in range(65):\n",
    "        table[i].append(-1)\n",
    "for i in range(dfc[0].count()):\n",
    "    start=dfc[0].iloc[i]\n",
    "    stop=dfc[1].iloc[i]\n",
    "    table[start][stop]=dfc[2].iloc[i]"
   ]
  },
  {
   "cell_type": "code",
   "execution_count": null,
   "metadata": {},
   "outputs": [],
   "source": []
  }
 ],
 "metadata": {
  "kernelspec": {
   "display_name": "Python 3",
   "language": "python",
   "name": "python3"
  },
  "language_info": {
   "codemirror_mode": {
    "name": "ipython",
    "version": 3
   },
   "file_extension": ".py",
   "mimetype": "text/x-python",
   "name": "python",
   "nbconvert_exporter": "python",
   "pygments_lexer": "ipython3",
   "version": "3.7.0"
  }
 },
 "nbformat": 4,
 "nbformat_minor": 2
}
